{
  "nbformat": 4,
  "nbformat_minor": 0,
  "metadata": {
    "colab": {
      "provenance": [],
      "include_colab_link": true
    },
    "kernelspec": {
      "name": "python3",
      "display_name": "Python 3"
    },
    "language_info": {
      "name": "python"
    }
  },
  "cells": [
    {
      "cell_type": "markdown",
      "metadata": {
        "id": "view-in-github",
        "colab_type": "text"
      },
      "source": [
        "<a href=\"https://colab.research.google.com/github/denikoer/aqi/blob/master/IoTMasterClass_ML_1.ipynb\" target=\"_parent\"><img src=\"https://colab.research.google.com/assets/colab-badge.svg\" alt=\"Open In Colab\"/></a>"
      ]
    },
    {
      "cell_type": "markdown",
      "source": [
        "### **Import**"
      ],
      "metadata": {
        "id": "LZH5sksJqnnD"
      }
    },
    {
      "cell_type": "code",
      "source": [
        "import gspread\n",
        "import pandas as pd\n",
        "import numpy as np\n",
        "from sklearn.model_selection import train_test_split\n",
        "from sklearn.ensemble import RandomForestClassifier\n",
        "from google.colab import auth\n",
        "from google.auth import default\n"
      ],
      "metadata": {
        "id": "ll-EVVuPZI-S"
      },
      "execution_count": null,
      "outputs": []
    },
    {
      "cell_type": "markdown",
      "source": [
        "### **Open/Load Sample Data**"
      ],
      "metadata": {
        "id": "FNwCUasfq9xB"
      }
    },
    {
      "cell_type": "code",
      "source": [
        "# auth/load google credentials\n",
        "auth.authenticate_user()\n",
        "creds, _ = default()\n",
        "gc = gspread.authorize(creds)\n",
        "\n",
        "# Open the Google Sheet by its URL (ensure it's publicly accessible)\n",
        "sheet_url = 'https://docs.google.com/spreadsheets/d/1SLwix8SFx3VUShDSNgh8-uu1h2f-UulPTu2t5CXWRnM/edit'  # Replace with your Google Sheet URL\n",
        "\n",
        "# Authenticate and open the spreadsheet\n",
        "spreadsheet = gc.open_by_url(sheet_url)\n",
        "\n",
        "# Select a specific worksheet\n",
        "worksheet = spreadsheet.worksheet(\"sample-data-fan-control\")\n",
        "\n",
        "# Get all values from the worksheet\n",
        "values = worksheet.get_all_values()\n",
        "\n",
        "# Convert to a Pandas DataFrame\n",
        "df = pd.DataFrame(values[1:], columns=values[0])  # Assuming the first row contains column headers"
      ],
      "metadata": {
        "id": "8autqHFoZNLY"
      },
      "execution_count": null,
      "outputs": []
    },
    {
      "cell_type": "markdown",
      "source": [
        "### **Process Data**"
      ],
      "metadata": {
        "id": "VdSNjjUHF2YG"
      }
    },
    {
      "cell_type": "code",
      "source": [
        "# clean up data\n",
        "weekday_map = {'sunday': 0, 'monday': 1, 'tuesday': 2, 'wednesday': 3, 'thursday': 4, 'friday': 5, 'saturday': 6}\n",
        "df['day'] = df['day'].map(weekday_map)\n",
        "\n",
        "truth_map = {'FALSE': 0, 'TRUE': 1}\n",
        "df['studio_motion'] = df['studio_motion'].map(truth_map)\n",
        "df['dog_motion'] = df['dog_motion'].map(truth_map)\n",
        "\n",
        "on_off_map = {'off': 0, 'on': 1}\n",
        "df['studio_fan'] = df['studio_fan'].map(on_off_map)\n",
        "df['dog_fan'] = df['dog_fan'].map(on_off_map)\n",
        "\n",
        "# Function to convert time stamp string to seconds\n",
        "def time_to_seconds(time_str):\n",
        "    hours, minutes, seconds = map(int, time_str.split(':'))\n",
        "    return hours * 3600 + minutes * 60 + seconds\n",
        "\n",
        "# Convert the 'Timestamps' column to seconds in day\n",
        "df['time'] = df['time'].apply(time_to_seconds)"
      ],
      "metadata": {
        "id": "IvW0L_0VH1bf",
        "colab": {
          "base_uri": "https://localhost:8080/",
          "height": 273
        },
        "outputId": "5f026585-e037-40fd-8e0f-e533c4d4cd1e"
      },
      "execution_count": null,
      "outputs": [
        {
          "output_type": "error",
          "ename": "NameError",
          "evalue": "ignored",
          "traceback": [
            "\u001b[0;31m---------------------------------------------------------------------------\u001b[0m",
            "\u001b[0;31mNameError\u001b[0m                                 Traceback (most recent call last)",
            "\u001b[0;32m<ipython-input-2-abcd4a31619d>\u001b[0m in \u001b[0;36m<cell line: 3>\u001b[0;34m()\u001b[0m\n\u001b[1;32m      1\u001b[0m \u001b[0;31m# clean up data\u001b[0m\u001b[0;34m\u001b[0m\u001b[0;34m\u001b[0m\u001b[0m\n\u001b[1;32m      2\u001b[0m \u001b[0mweekday_map\u001b[0m \u001b[0;34m=\u001b[0m \u001b[0;34m{\u001b[0m\u001b[0;34m'sunday'\u001b[0m\u001b[0;34m:\u001b[0m \u001b[0;36m0\u001b[0m\u001b[0;34m,\u001b[0m \u001b[0;34m'monday'\u001b[0m\u001b[0;34m:\u001b[0m \u001b[0;36m1\u001b[0m\u001b[0;34m,\u001b[0m \u001b[0;34m'tuesday'\u001b[0m\u001b[0;34m:\u001b[0m \u001b[0;36m2\u001b[0m\u001b[0;34m,\u001b[0m \u001b[0;34m'wednesday'\u001b[0m\u001b[0;34m:\u001b[0m \u001b[0;36m3\u001b[0m\u001b[0;34m,\u001b[0m \u001b[0;34m'thursday'\u001b[0m\u001b[0;34m:\u001b[0m \u001b[0;36m4\u001b[0m\u001b[0;34m,\u001b[0m \u001b[0;34m'friday'\u001b[0m\u001b[0;34m:\u001b[0m \u001b[0;36m5\u001b[0m\u001b[0;34m,\u001b[0m \u001b[0;34m'saturday'\u001b[0m\u001b[0;34m:\u001b[0m \u001b[0;36m6\u001b[0m\u001b[0;34m}\u001b[0m\u001b[0;34m\u001b[0m\u001b[0;34m\u001b[0m\u001b[0m\n\u001b[0;32m----> 3\u001b[0;31m \u001b[0mdf\u001b[0m\u001b[0;34m[\u001b[0m\u001b[0;34m'day'\u001b[0m\u001b[0;34m]\u001b[0m \u001b[0;34m=\u001b[0m \u001b[0mdf\u001b[0m\u001b[0;34m[\u001b[0m\u001b[0;34m'day'\u001b[0m\u001b[0;34m]\u001b[0m\u001b[0;34m.\u001b[0m\u001b[0mmap\u001b[0m\u001b[0;34m(\u001b[0m\u001b[0mweekday_map\u001b[0m\u001b[0;34m)\u001b[0m\u001b[0;34m\u001b[0m\u001b[0;34m\u001b[0m\u001b[0m\n\u001b[0m\u001b[1;32m      4\u001b[0m \u001b[0;34m\u001b[0m\u001b[0m\n\u001b[1;32m      5\u001b[0m \u001b[0mtruth_map\u001b[0m \u001b[0;34m=\u001b[0m \u001b[0;34m{\u001b[0m\u001b[0;34m'FALSE'\u001b[0m\u001b[0;34m:\u001b[0m \u001b[0;36m0\u001b[0m\u001b[0;34m,\u001b[0m \u001b[0;34m'TRUE'\u001b[0m\u001b[0;34m:\u001b[0m \u001b[0;36m1\u001b[0m\u001b[0;34m}\u001b[0m\u001b[0;34m\u001b[0m\u001b[0;34m\u001b[0m\u001b[0m\n",
            "\u001b[0;31mNameError\u001b[0m: name 'df' is not defined"
          ]
        }
      ]
    },
    {
      "cell_type": "code",
      "source": [
        "df"
      ],
      "metadata": {
        "id": "-l_K1ahkH_5y"
      },
      "execution_count": null,
      "outputs": []
    },
    {
      "cell_type": "code",
      "source": [
        "# seperate studio fan and dog fan  data\n",
        "# select studio fan and dog fan state DataFrame\n",
        "df_st = df[['time','day','studio_motion', 'studio_temp','studio_fan']]\n",
        "df_do = df[['time','day','dog_motion', 'dog_temp','dog_fan']]"
      ],
      "metadata": {
        "id": "FTiRbvKBilxa",
        "colab": {
          "base_uri": "https://localhost:8080/",
          "height": 236
        },
        "outputId": "96b59a58-3568-4013-ad20-1367943b4f45"
      },
      "execution_count": null,
      "outputs": [
        {
          "output_type": "error",
          "ename": "NameError",
          "evalue": "ignored",
          "traceback": [
            "\u001b[0;31m---------------------------------------------------------------------------\u001b[0m",
            "\u001b[0;31mNameError\u001b[0m                                 Traceback (most recent call last)",
            "\u001b[0;32m<ipython-input-3-3efabe3bf097>\u001b[0m in \u001b[0;36m<cell line: 3>\u001b[0;34m()\u001b[0m\n\u001b[1;32m      1\u001b[0m \u001b[0;31m# seperate studio fan and dog fan  data\u001b[0m\u001b[0;34m\u001b[0m\u001b[0;34m\u001b[0m\u001b[0m\n\u001b[1;32m      2\u001b[0m \u001b[0;31m# select studio fan and dog fan state DataFrame\u001b[0m\u001b[0;34m\u001b[0m\u001b[0;34m\u001b[0m\u001b[0m\n\u001b[0;32m----> 3\u001b[0;31m \u001b[0mdf_st\u001b[0m \u001b[0;34m=\u001b[0m \u001b[0mdf\u001b[0m\u001b[0;34m[\u001b[0m\u001b[0;34m[\u001b[0m\u001b[0;34m'time'\u001b[0m\u001b[0;34m,\u001b[0m\u001b[0;34m'day'\u001b[0m\u001b[0;34m,\u001b[0m\u001b[0;34m'studio_motion'\u001b[0m\u001b[0;34m,\u001b[0m \u001b[0;34m'studio_temp'\u001b[0m\u001b[0;34m,\u001b[0m\u001b[0;34m'studio_fan'\u001b[0m\u001b[0;34m]\u001b[0m\u001b[0;34m]\u001b[0m\u001b[0;34m\u001b[0m\u001b[0;34m\u001b[0m\u001b[0m\n\u001b[0m\u001b[1;32m      4\u001b[0m \u001b[0mdf_do\u001b[0m \u001b[0;34m=\u001b[0m \u001b[0mdf\u001b[0m\u001b[0;34m[\u001b[0m\u001b[0;34m[\u001b[0m\u001b[0;34m'time'\u001b[0m\u001b[0;34m,\u001b[0m\u001b[0;34m'day'\u001b[0m\u001b[0;34m,\u001b[0m\u001b[0;34m'dog_motion'\u001b[0m\u001b[0;34m,\u001b[0m \u001b[0;34m'dog_temp'\u001b[0m\u001b[0;34m,\u001b[0m\u001b[0;34m'dog_fan'\u001b[0m\u001b[0;34m]\u001b[0m\u001b[0;34m]\u001b[0m\u001b[0;34m\u001b[0m\u001b[0;34m\u001b[0m\u001b[0m\n",
            "\u001b[0;31mNameError\u001b[0m: name 'df' is not defined"
          ]
        }
      ]
    },
    {
      "cell_type": "code",
      "source": [
        "df_st"
      ],
      "metadata": {
        "id": "Zk2J8stJIP2j"
      },
      "execution_count": null,
      "outputs": []
    },
    {
      "cell_type": "code",
      "source": [
        "df_do"
      ],
      "metadata": {
        "id": "EuzLSRgnIWbI"
      },
      "execution_count": null,
      "outputs": []
    },
    {
      "cell_type": "code",
      "source": [
        "# seperate features/Inputs (X) and targets (classes: y)\n",
        "\n",
        "# condition analysis (target data, Class)\n",
        "y_st = df_st['studio_fan']\n",
        "y_do = df_do['dog_fan']\n",
        "\n",
        "# independent variables (Features/Input)\n",
        "X_st = df_st.drop(['studio_fan'], axis = 1)\n",
        "X_do = df_do.drop(['dog_fan'], axis = 1)"
      ],
      "metadata": {
        "id": "AqkK9apCR5dp",
        "colab": {
          "base_uri": "https://localhost:8080/",
          "height": 255
        },
        "outputId": "dcb1b03e-8765-4f77-f689-ba067958deb8"
      },
      "execution_count": null,
      "outputs": [
        {
          "output_type": "error",
          "ename": "NameError",
          "evalue": "ignored",
          "traceback": [
            "\u001b[0;31m---------------------------------------------------------------------------\u001b[0m",
            "\u001b[0;31mNameError\u001b[0m                                 Traceback (most recent call last)",
            "\u001b[0;32m<ipython-input-4-7e15c914a7ca>\u001b[0m in \u001b[0;36m<cell line: 4>\u001b[0;34m()\u001b[0m\n\u001b[1;32m      2\u001b[0m \u001b[0;34m\u001b[0m\u001b[0m\n\u001b[1;32m      3\u001b[0m \u001b[0;31m# condition analysis (target data, Class)\u001b[0m\u001b[0;34m\u001b[0m\u001b[0;34m\u001b[0m\u001b[0m\n\u001b[0;32m----> 4\u001b[0;31m \u001b[0my_st\u001b[0m \u001b[0;34m=\u001b[0m \u001b[0mdf_st\u001b[0m\u001b[0;34m[\u001b[0m\u001b[0;34m'studio_fan'\u001b[0m\u001b[0;34m]\u001b[0m\u001b[0;34m\u001b[0m\u001b[0;34m\u001b[0m\u001b[0m\n\u001b[0m\u001b[1;32m      5\u001b[0m \u001b[0my_do\u001b[0m \u001b[0;34m=\u001b[0m \u001b[0mdf_do\u001b[0m\u001b[0;34m[\u001b[0m\u001b[0;34m'dog_fan'\u001b[0m\u001b[0;34m]\u001b[0m\u001b[0;34m\u001b[0m\u001b[0;34m\u001b[0m\u001b[0m\n\u001b[1;32m      6\u001b[0m \u001b[0;34m\u001b[0m\u001b[0m\n",
            "\u001b[0;31mNameError\u001b[0m: name 'df_st' is not defined"
          ]
        }
      ]
    },
    {
      "cell_type": "code",
      "source": [
        "# split training and test data\n",
        "\n",
        "X_train_st, X_test_st, y_train_st, y_test_st = train_test_split(X_st, y_st, test_size=0.20, random_state=91)\n",
        "X_train_do, X_test_do, y_train_do, y_test_do = train_test_split(X_do, y_do, test_size=0.20, random_state=91)"
      ],
      "metadata": {
        "id": "NmOAJU4hJzV9"
      },
      "execution_count": null,
      "outputs": []
    },
    {
      "cell_type": "markdown",
      "source": [
        "### **Train Data**"
      ],
      "metadata": {
        "id": "DfXTypGVrLhu"
      }
    },
    {
      "cell_type": "code",
      "source": [
        "# init and train RandomForestClassifier for Studio Fan Model\n",
        "\n",
        "# time, day,\tstudio_motion,\tstudio_temp\n",
        "class_weights = {0: 10, 1: 27, 2: 4, 3: 40}  # Data Tuning: Assign a higher weight to classes with higher importance\n",
        "\n",
        "model_st = RandomForestClassifier(oob_score=True, max_depth=8, random_state=90, class_weight=class_weights)\n",
        "model_st.fit(X_train_st,y_train_st)\n",
        "\n",
        "# Calculate estimated OOB (Out Of Bag) score\n",
        "\"\"\" The OOB score can serve as a useful estimate of how well your random forest model is likely\n",
        "to perform on unseen data without the need for a separate validation set.\n",
        "However, it's still a good practice to use additional evaluation techniques\n",
        "like cross-validation to assess the model's performance thoroughly. \"\"\"\n",
        "\n",
        "print(f'Studio Fan OOB SCORE: {model_st.oob_score_}')"
      ],
      "metadata": {
        "colab": {
          "base_uri": "https://localhost:8080/"
        },
        "id": "vY36SHnLKkcT",
        "outputId": "ff601099-bfc1-40a6-ed0c-c89bff02bddb"
      },
      "execution_count": null,
      "outputs": [
        {
          "output_type": "stream",
          "name": "stdout",
          "text": [
            "Studio Fan OOB SCORE: 0.970873786407767\n"
          ]
        }
      ]
    },
    {
      "cell_type": "code",
      "source": [
        "# init and train RandomForestClassifier for Dog Fan Model\n",
        "\n",
        "# time, day,\tstudio_motion,\tstudio_temp\n",
        "class_weights = {0: 30, 1: 20, 2: 4, 3: 40}  # Data Tuning: Example: Assign a higher weight (5) to class 1\n",
        "\n",
        "model_do = RandomForestClassifier(oob_score=True, max_depth=8, random_state=91, class_weight=class_weights)\n",
        "model_do.fit(X_train_do,y_train_do)\n",
        "\n",
        "# Calculate estimated OOB (Out Of Bag) score\n",
        "\"\"\" The OOB score can serve as a useful estimate of how well your random forest model is likely\n",
        "to perform on unseen data without the need for a separate validation set.\n",
        "However, it's still a good practice to use additional evaluation techniques\n",
        "like cross-validation to assess the model's performance thoroughly. \"\"\"\n",
        "\n",
        "print(f'Dog Fan OOB SCORE: {model_do.oob_score_}')"
      ],
      "metadata": {
        "colab": {
          "base_uri": "https://localhost:8080/"
        },
        "id": "fLLylQk3Oicm",
        "outputId": "9a1f0cb5-cbe9-49ec-bd4f-0ba50bc8ee00"
      },
      "execution_count": null,
      "outputs": [
        {
          "output_type": "stream",
          "name": "stdout",
          "text": [
            "Dog Fan OOB SCORE: 0.9597780859916782\n"
          ]
        }
      ]
    },
    {
      "cell_type": "markdown",
      "source": [
        "### **Validate Tune Data**"
      ],
      "metadata": {
        "id": "FjOnSwydG8EJ"
      }
    },
    {
      "cell_type": "code",
      "source": [
        "# Calculate Accuracy\n",
        "from sklearn.metrics import accuracy_score, classification_report\n",
        "\n",
        "# calculate studio fan state accuracy\n",
        "y_pred_st = model_st.predict(X_test_st)\n",
        "accuracy_st = accuracy_score(y_test_st, y_pred_st)\n",
        "print(f'Studio Fan Accuracy: {accuracy_st}')\n",
        "\n",
        "# calculate dog fan state accuracy\n",
        "y_pred_do = model_do.predict(X_test_do)\n",
        "accuracy_do = accuracy_score(y_test_do, y_pred_do)\n",
        "print(f'Dog Fan Accuracy: {accuracy_do}')"
      ],
      "metadata": {
        "colab": {
          "base_uri": "https://localhost:8080/",
          "height": 255
        },
        "id": "ex5QazCwPL8w",
        "outputId": "8f7cd79b-c978-4df3-d133-19e302259d00"
      },
      "execution_count": null,
      "outputs": [
        {
          "output_type": "error",
          "ename": "NameError",
          "evalue": "ignored",
          "traceback": [
            "\u001b[0;31m---------------------------------------------------------------------------\u001b[0m",
            "\u001b[0;31mNameError\u001b[0m                                 Traceback (most recent call last)",
            "\u001b[0;32m<ipython-input-5-f43def69e936>\u001b[0m in \u001b[0;36m<cell line: 5>\u001b[0;34m()\u001b[0m\n\u001b[1;32m      3\u001b[0m \u001b[0;34m\u001b[0m\u001b[0m\n\u001b[1;32m      4\u001b[0m \u001b[0;31m# calculate studio fan state accuracy\u001b[0m\u001b[0;34m\u001b[0m\u001b[0;34m\u001b[0m\u001b[0m\n\u001b[0;32m----> 5\u001b[0;31m \u001b[0my_pred_st\u001b[0m \u001b[0;34m=\u001b[0m \u001b[0mmodel_st\u001b[0m\u001b[0;34m.\u001b[0m\u001b[0mpredict\u001b[0m\u001b[0;34m(\u001b[0m\u001b[0mX_test_st\u001b[0m\u001b[0;34m)\u001b[0m\u001b[0;34m\u001b[0m\u001b[0;34m\u001b[0m\u001b[0m\n\u001b[0m\u001b[1;32m      6\u001b[0m \u001b[0maccuracy_st\u001b[0m \u001b[0;34m=\u001b[0m \u001b[0maccuracy_score\u001b[0m\u001b[0;34m(\u001b[0m\u001b[0my_test_st\u001b[0m\u001b[0;34m,\u001b[0m \u001b[0my_pred_st\u001b[0m\u001b[0;34m)\u001b[0m\u001b[0;34m\u001b[0m\u001b[0;34m\u001b[0m\u001b[0m\n\u001b[1;32m      7\u001b[0m \u001b[0mprint\u001b[0m\u001b[0;34m(\u001b[0m\u001b[0;34mf'Studio Fan Accuracy: {accuracy_st}'\u001b[0m\u001b[0;34m)\u001b[0m\u001b[0;34m\u001b[0m\u001b[0;34m\u001b[0m\u001b[0m\n",
            "\u001b[0;31mNameError\u001b[0m: name 'model_st' is not defined"
          ]
        }
      ]
    },
    {
      "cell_type": "code",
      "source": [
        "# calculate and visualize the confusion matrix\n",
        "\"\"\" A confusion matrix is a table used in machine learning to evaluate the\n",
        "performance of a classification model, showing true positives, true negatives,\n",
        "false positives, and false negatives.\"\"\"\n",
        "\n",
        "import matplotlib.pyplot as plt\n",
        "import seaborn as sns\n",
        "from sklearn.metrics import confusion_matrix\n",
        "\n",
        "def plot_confusion_matrix(y_test, y_pred, label_name):\n",
        "  # Generate a confusion matrix\n",
        "  confusion = confusion_matrix(y_test, y_pred)\n",
        "\n",
        "  # Calculate percentages for each cell in the confusion matrix\n",
        "  total_samples = np.sum(confusion)\n",
        "  confusion_percent = (confusion / total_samples) * 100\n",
        "\n",
        "  # Plot the confusion matrix with percentages\n",
        "  plt.figure(figsize=(4, 3))\n",
        "  sns.heatmap(confusion_percent, annot=True, fmt='.2f', cmap='Blues', cbar=False, square=True)\n",
        "  plt.xlabel('Predicted Labels : ' + label_name)\n",
        "  plt.ylabel('Actual Labels')\n",
        "  plt.title('Confusion Matrix (Percentages)')\n",
        "  plt.show()\n",
        "\n",
        "\n",
        "plot_confusion_matrix(y_test_st, y_pred_st, \"Studio Fan Model\")\n",
        "plot_confusion_matrix(y_test_do, y_pred_do, \"Dog Fan Model\")\n",
        "\n"
      ],
      "metadata": {
        "id": "cyGCO1LTR7ff"
      },
      "execution_count": null,
      "outputs": []
    },
    {
      "cell_type": "markdown",
      "source": [
        "### **Download and Deploy Model**"
      ],
      "metadata": {
        "id": "qS9YMs-7GcE2"
      }
    },
    {
      "cell_type": "code",
      "source": [
        "import joblib\n",
        "from google.colab import files\n",
        "\n",
        "# Download Studio Fan Model\n",
        "joblib.dump(model_st, \"studio_fan_model.joblib\")\n",
        "files.download(\"studio_fan_model.joblib\")"
      ],
      "metadata": {
        "colab": {
          "base_uri": "https://localhost:8080/",
          "height": 236
        },
        "id": "5hOg_NVWGYlG",
        "outputId": "265630bd-d299-4872-ef21-ad7b0f3febcc"
      },
      "execution_count": null,
      "outputs": [
        {
          "output_type": "error",
          "ename": "NameError",
          "evalue": "ignored",
          "traceback": [
            "\u001b[0;31m---------------------------------------------------------------------------\u001b[0m",
            "\u001b[0;31mNameError\u001b[0m                                 Traceback (most recent call last)",
            "\u001b[0;32m<ipython-input-6-1b18e55b7169>\u001b[0m in \u001b[0;36m<cell line: 5>\u001b[0;34m()\u001b[0m\n\u001b[1;32m      3\u001b[0m \u001b[0;34m\u001b[0m\u001b[0m\n\u001b[1;32m      4\u001b[0m \u001b[0;31m# Download Studio Fan Model\u001b[0m\u001b[0;34m\u001b[0m\u001b[0;34m\u001b[0m\u001b[0m\n\u001b[0;32m----> 5\u001b[0;31m \u001b[0mjoblib\u001b[0m\u001b[0;34m.\u001b[0m\u001b[0mdump\u001b[0m\u001b[0;34m(\u001b[0m\u001b[0mmodel_st\u001b[0m\u001b[0;34m,\u001b[0m \u001b[0;34m\"studio_fan_model.joblib\"\u001b[0m\u001b[0;34m)\u001b[0m\u001b[0;34m\u001b[0m\u001b[0;34m\u001b[0m\u001b[0m\n\u001b[0m\u001b[1;32m      6\u001b[0m \u001b[0mfiles\u001b[0m\u001b[0;34m.\u001b[0m\u001b[0mdownload\u001b[0m\u001b[0;34m(\u001b[0m\u001b[0;34m\"studio_fan_model.joblib\"\u001b[0m\u001b[0;34m)\u001b[0m\u001b[0;34m\u001b[0m\u001b[0;34m\u001b[0m\u001b[0m\n",
            "\u001b[0;31mNameError\u001b[0m: name 'model_st' is not defined"
          ]
        }
      ]
    },
    {
      "cell_type": "code",
      "source": [
        "import joblib\n",
        "from google.colab import files\n",
        "\n",
        "# Download Studio Fan Model\n",
        "joblib.dump(model_st, \"dog_fan_model.joblib\")\n",
        "files.download(\"dog_fan_model.joblib\")"
      ],
      "metadata": {
        "colab": {
          "base_uri": "https://localhost:8080/",
          "height": 17
        },
        "id": "neo3bFNwHXSA",
        "outputId": "6cc03dd2-bf98-4737-f0b4-cac010a8b295"
      },
      "execution_count": null,
      "outputs": [
        {
          "output_type": "display_data",
          "data": {
            "text/plain": [
              "<IPython.core.display.Javascript object>"
            ],
            "application/javascript": [
              "\n",
              "    async function download(id, filename, size) {\n",
              "      if (!google.colab.kernel.accessAllowed) {\n",
              "        return;\n",
              "      }\n",
              "      const div = document.createElement('div');\n",
              "      const label = document.createElement('label');\n",
              "      label.textContent = `Downloading \"${filename}\": `;\n",
              "      div.appendChild(label);\n",
              "      const progress = document.createElement('progress');\n",
              "      progress.max = size;\n",
              "      div.appendChild(progress);\n",
              "      document.body.appendChild(div);\n",
              "\n",
              "      const buffers = [];\n",
              "      let downloaded = 0;\n",
              "\n",
              "      const channel = await google.colab.kernel.comms.open(id);\n",
              "      // Send a message to notify the kernel that we're ready.\n",
              "      channel.send({})\n",
              "\n",
              "      for await (const message of channel.messages) {\n",
              "        // Send a message to notify the kernel that we're ready.\n",
              "        channel.send({})\n",
              "        if (message.buffers) {\n",
              "          for (const buffer of message.buffers) {\n",
              "            buffers.push(buffer);\n",
              "            downloaded += buffer.byteLength;\n",
              "            progress.value = downloaded;\n",
              "          }\n",
              "        }\n",
              "      }\n",
              "      const blob = new Blob(buffers, {type: 'application/binary'});\n",
              "      const a = document.createElement('a');\n",
              "      a.href = window.URL.createObjectURL(blob);\n",
              "      a.download = filename;\n",
              "      div.appendChild(a);\n",
              "      a.click();\n",
              "      div.remove();\n",
              "    }\n",
              "  "
            ]
          },
          "metadata": {}
        },
        {
          "output_type": "display_data",
          "data": {
            "text/plain": [
              "<IPython.core.display.Javascript object>"
            ],
            "application/javascript": [
              "download(\"download_fd3ffefb-aa5b-4f83-8437-79df22dc1787\", \"dog_fan_model.joblib\", 557728)"
            ]
          },
          "metadata": {}
        }
      ]
    }
  ]
}